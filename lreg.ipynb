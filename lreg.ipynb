{
 "cells": [
  {
   "cell_type": "code",
   "execution_count": 5,
   "metadata": {},
   "outputs": [],
   "source": [
    "import numpy as np\n",
    "import pandas as pd\n",
    "import seaborn as sns\n",
    "import matplotlib.pyplot as plt\n",
    "import statsmodels.api as sm"
   ]
  },
  {
   "cell_type": "code",
   "execution_count": 12,
   "metadata": {},
   "outputs": [],
   "source": [
    "df = pd.read_excel(r'C:\\Users\\Gexec\\Desktop\\New folder\\New folder\\Econometrics2022\\Survey.xlsx')"
   ]
  },
  {
   "cell_type": "code",
   "execution_count": 13,
   "metadata": {},
   "outputs": [
    {
     "data": {
      "text/html": [
       "<div>\n",
       "<style scoped>\n",
       "    .dataframe tbody tr th:only-of-type {\n",
       "        vertical-align: middle;\n",
       "    }\n",
       "\n",
       "    .dataframe tbody tr th {\n",
       "        vertical-align: top;\n",
       "    }\n",
       "\n",
       "    .dataframe thead th {\n",
       "        text-align: right;\n",
       "    }\n",
       "</style>\n",
       "<table border=\"1\" class=\"dataframe\">\n",
       "  <thead>\n",
       "    <tr style=\"text-align: right;\">\n",
       "      <th></th>\n",
       "      <th>interview__key</th>\n",
       "      <th>date_q</th>\n",
       "      <th>hh_02</th>\n",
       "      <th>settlement</th>\n",
       "      <th>members</th>\n",
       "      <th>memnal</th>\n",
       "      <th>weight</th>\n",
       "      <th>fdpurch</th>\n",
       "      <th>fdcons</th>\n",
       "      <th>fdout</th>\n",
       "      <th>...</th>\n",
       "      <th>hous_29_2n</th>\n",
       "      <th>hous_29_3n</th>\n",
       "      <th>hous_29_4n</th>\n",
       "      <th>hous_29_5n</th>\n",
       "      <th>hous_29_6n</th>\n",
       "      <th>hous_39</th>\n",
       "      <th>hous_44</th>\n",
       "      <th>soc_01</th>\n",
       "      <th>soc_05</th>\n",
       "      <th>hous_47_8</th>\n",
       "    </tr>\n",
       "  </thead>\n",
       "  <tbody>\n",
       "    <tr>\n",
       "      <th>0</th>\n",
       "      <td>00-02-43-24</td>\n",
       "      <td>2019.09</td>\n",
       "      <td>6</td>\n",
       "      <td>1</td>\n",
       "      <td>4</td>\n",
       "      <td>4</td>\n",
       "      <td>156.330247</td>\n",
       "      <td>16142.559524</td>\n",
       "      <td>130.357143</td>\n",
       "      <td>0.0</td>\n",
       "      <td>...</td>\n",
       "      <td>0.0</td>\n",
       "      <td>0.0</td>\n",
       "      <td>0.0</td>\n",
       "      <td>0.0</td>\n",
       "      <td>1.0</td>\n",
       "      <td>1</td>\n",
       "      <td>4</td>\n",
       "      <td>2</td>\n",
       "      <td>NaN</td>\n",
       "      <td>NaN</td>\n",
       "    </tr>\n",
       "    <tr>\n",
       "      <th>1</th>\n",
       "      <td>00-02-53-94</td>\n",
       "      <td>2019.11</td>\n",
       "      <td>7</td>\n",
       "      <td>1</td>\n",
       "      <td>1</td>\n",
       "      <td>1</td>\n",
       "      <td>199.569444</td>\n",
       "      <td>15403.869048</td>\n",
       "      <td>0.000000</td>\n",
       "      <td>0.0</td>\n",
       "      <td>...</td>\n",
       "      <td>1.0</td>\n",
       "      <td>0.0</td>\n",
       "      <td>0.0</td>\n",
       "      <td>0.0</td>\n",
       "      <td>0.0</td>\n",
       "      <td>1</td>\n",
       "      <td>3</td>\n",
       "      <td>2</td>\n",
       "      <td>NaN</td>\n",
       "      <td>1.0</td>\n",
       "    </tr>\n",
       "    <tr>\n",
       "      <th>2</th>\n",
       "      <td>00-02-68-45</td>\n",
       "      <td>2019.11</td>\n",
       "      <td>1</td>\n",
       "      <td>1</td>\n",
       "      <td>1</td>\n",
       "      <td>1</td>\n",
       "      <td>164.703704</td>\n",
       "      <td>44234.523810</td>\n",
       "      <td>0.000000</td>\n",
       "      <td>0.0</td>\n",
       "      <td>...</td>\n",
       "      <td>1.0</td>\n",
       "      <td>1.0</td>\n",
       "      <td>0.0</td>\n",
       "      <td>0.0</td>\n",
       "      <td>0.0</td>\n",
       "      <td>1</td>\n",
       "      <td>3</td>\n",
       "      <td>2</td>\n",
       "      <td>NaN</td>\n",
       "      <td>1.0</td>\n",
       "    </tr>\n",
       "    <tr>\n",
       "      <th>3</th>\n",
       "      <td>00-09-10-75</td>\n",
       "      <td>2019.11</td>\n",
       "      <td>8</td>\n",
       "      <td>1</td>\n",
       "      <td>3</td>\n",
       "      <td>3</td>\n",
       "      <td>185.768519</td>\n",
       "      <td>34283.928571</td>\n",
       "      <td>76.041667</td>\n",
       "      <td>0.0</td>\n",
       "      <td>...</td>\n",
       "      <td>0.0</td>\n",
       "      <td>1.0</td>\n",
       "      <td>0.0</td>\n",
       "      <td>0.0</td>\n",
       "      <td>0.0</td>\n",
       "      <td>1</td>\n",
       "      <td>3</td>\n",
       "      <td>2</td>\n",
       "      <td>NaN</td>\n",
       "      <td>NaN</td>\n",
       "    </tr>\n",
       "    <tr>\n",
       "      <th>4</th>\n",
       "      <td>00-10-58-42</td>\n",
       "      <td>2019.03</td>\n",
       "      <td>8</td>\n",
       "      <td>2</td>\n",
       "      <td>5</td>\n",
       "      <td>5</td>\n",
       "      <td>126.657407</td>\n",
       "      <td>22530.059524</td>\n",
       "      <td>12678.363641</td>\n",
       "      <td>0.0</td>\n",
       "      <td>...</td>\n",
       "      <td>0.0</td>\n",
       "      <td>1.0</td>\n",
       "      <td>0.0</td>\n",
       "      <td>0.0</td>\n",
       "      <td>0.0</td>\n",
       "      <td>2</td>\n",
       "      <td>5</td>\n",
       "      <td>1</td>\n",
       "      <td>NaN</td>\n",
       "      <td>1.0</td>\n",
       "    </tr>\n",
       "  </tbody>\n",
       "</table>\n",
       "<p>5 rows × 65 columns</p>\n",
       "</div>"
      ],
      "text/plain": [
       "  interview__key   date_q  hh_02  settlement  members  memnal      weight  \\\n",
       "0    00-02-43-24  2019.09      6           1        4       4  156.330247   \n",
       "1    00-02-53-94  2019.11      7           1        1       1  199.569444   \n",
       "2    00-02-68-45  2019.11      1           1        1       1  164.703704   \n",
       "3    00-09-10-75  2019.11      8           1        3       3  185.768519   \n",
       "4    00-10-58-42  2019.03      8           2        5       5  126.657407   \n",
       "\n",
       "        fdpurch        fdcons  fdout  ...  hous_29_2n  hous_29_3n  hous_29_4n  \\\n",
       "0  16142.559524    130.357143    0.0  ...         0.0         0.0         0.0   \n",
       "1  15403.869048      0.000000    0.0  ...         1.0         0.0         0.0   \n",
       "2  44234.523810      0.000000    0.0  ...         1.0         1.0         0.0   \n",
       "3  34283.928571     76.041667    0.0  ...         0.0         1.0         0.0   \n",
       "4  22530.059524  12678.363641    0.0  ...         0.0         1.0         0.0   \n",
       "\n",
       "   hous_29_5n  hous_29_6n  hous_39  hous_44  soc_01  soc_05  hous_47_8  \n",
       "0         0.0         1.0        1        4       2     NaN        NaN  \n",
       "1         0.0         0.0        1        3       2     NaN        1.0  \n",
       "2         0.0         0.0        1        3       2     NaN        1.0  \n",
       "3         0.0         0.0        1        3       2     NaN        NaN  \n",
       "4         0.0         0.0        2        5       1     NaN        1.0  \n",
       "\n",
       "[5 rows x 65 columns]"
      ]
     },
     "execution_count": 13,
     "metadata": {},
     "output_type": "execute_result"
    }
   ],
   "source": [
    "df.head()"
   ]
  },
  {
   "cell_type": "code",
   "execution_count": 14,
   "metadata": {},
   "outputs": [
    {
     "name": "stdout",
     "output_type": "stream",
     "text": [
      "<class 'pandas.core.frame.DataFrame'>\n",
      "RangeIndex: 5165 entries, 0 to 5164\n",
      "Data columns (total 65 columns):\n",
      " #   Column            Non-Null Count  Dtype  \n",
      "---  ------            --------------  -----  \n",
      " 0   interview__key    5165 non-null   object \n",
      " 1   date_q            5165 non-null   float64\n",
      " 2   hh_02             5165 non-null   int64  \n",
      " 3   settlement        5165 non-null   int64  \n",
      " 4   members           5165 non-null   int64  \n",
      " 5   memnal            5165 non-null   int64  \n",
      " 6   weight            5165 non-null   float64\n",
      " 7   fdpurch           5165 non-null   float64\n",
      " 8   fdcons            5165 non-null   float64\n",
      " 9   fdout             5165 non-null   float64\n",
      " 10  Z1                5165 non-null   float64\n",
      " 11  nfdpurch          5165 non-null   float64\n",
      " 12  nonfdgif          5165 non-null   float64\n",
      " 13  durble            5165 non-null   float64\n",
      " 14  expend            5165 non-null   float64\n",
      " 15  monincome         5165 non-null   float64\n",
      " 16  totincome         5165 non-null   float64\n",
      " 17  nonmoninc         5165 non-null   float64\n",
      " 18  y1_3amd.1.00      2717 non-null   float64\n",
      " 19  y1_3amd.2.00      1042 non-null   float64\n",
      " 20  y1_3amd.3.00      1359 non-null   float64\n",
      " 21  y1_3amd.4.00      2725 non-null   float64\n",
      " 22  y1_3amd.6.00      624 non-null    float64\n",
      " 23  y1_3amd.8.00      50 non-null     float64\n",
      " 24  y1_3amd.9.00      45 non-null     float64\n",
      " 25  y1_3amd.10.00     13 non-null     float64\n",
      " 26  y1_3amd.13.00     49 non-null     float64\n",
      " 27  y1_3amd.14.00     20 non-null     float64\n",
      " 28  y1_3amd.15.00     46 non-null     float64\n",
      " 29  y1_3amd.17.00     42 non-null     float64\n",
      " 30  y1_3amd.18.00     616 non-null    float64\n",
      " 31  y1_3amd.19.00     764 non-null    float64\n",
      " 32  y1_3amd.23.00     4 non-null      float64\n",
      " 33  y1_3amd.28.00     38 non-null     float64\n",
      " 34  hhch_0_3_sum      781 non-null    float64\n",
      " 35  hhch_4_5_sum      470 non-null    float64\n",
      " 36  hhch_6_11_sum     1117 non-null   float64\n",
      " 37  hhch_12_17_sum    980 non-null    float64\n",
      " 38  hheld_63_65_sum   603 non-null    float64\n",
      " 39  hheld_66_70_sum   836 non-null    float64\n",
      " 40  hheld_71_80_sum   920 non-null    float64\n",
      " 41  hheld_over81_sum  501 non-null    float64\n",
      " 42  hheld_over63_sum  2446 non-null   float64\n",
      " 43  headsex           5148 non-null   float64\n",
      " 44  headeduc          4929 non-null   float64\n",
      " 45  headmerstatus     5148 non-null   float64\n",
      " 46  headage           5148 non-null   float64\n",
      " 47  aec_r             5165 non-null   float64\n",
      " 48  poverty           5165 non-null   int64  \n",
      " 49  pweight           5165 non-null   float64\n",
      " 50  ae_r              5165 non-null   float64\n",
      " 51  hous_01           5165 non-null   int64  \n",
      " 52  hous_13           5165 non-null   int64  \n",
      " 53  hous_16           4953 non-null   float64\n",
      " 54  hous_29_1n        5091 non-null   float64\n",
      " 55  hous_29_2n        5107 non-null   float64\n",
      " 56  hous_29_3n        5149 non-null   float64\n",
      " 57  hous_29_4n        5092 non-null   float64\n",
      " 58  hous_29_5n        5090 non-null   float64\n",
      " 59  hous_29_6n        5093 non-null   float64\n",
      " 60  hous_39           5165 non-null   int64  \n",
      " 61  hous_44           5165 non-null   int64  \n",
      " 62  soc_01            5165 non-null   int64  \n",
      " 63  soc_05            572 non-null    float64\n",
      " 64  hous_47_8         3342 non-null   float64\n",
      "dtypes: float64(54), int64(10), object(1)\n",
      "memory usage: 2.6+ MB\n"
     ]
    }
   ],
   "source": [
    "df.info()"
   ]
  },
  {
   "cell_type": "code",
   "execution_count": 15,
   "metadata": {},
   "outputs": [
    {
     "data": {
      "text/plain": [
       "interview__key       0\n",
       "date_q               0\n",
       "hh_02                0\n",
       "settlement           0\n",
       "members              0\n",
       "                  ... \n",
       "hous_39              0\n",
       "hous_44              0\n",
       "soc_01               0\n",
       "soc_05            4593\n",
       "hous_47_8         1823\n",
       "Length: 65, dtype: int64"
      ]
     },
     "execution_count": 15,
     "metadata": {},
     "output_type": "execute_result"
    }
   ],
   "source": [
    "df.isnull().sum()"
   ]
  },
  {
   "cell_type": "code",
   "execution_count": 16,
   "metadata": {},
   "outputs": [
    {
     "data": {
      "text/html": [
       "<div>\n",
       "<style scoped>\n",
       "    .dataframe tbody tr th:only-of-type {\n",
       "        vertical-align: middle;\n",
       "    }\n",
       "\n",
       "    .dataframe tbody tr th {\n",
       "        vertical-align: top;\n",
       "    }\n",
       "\n",
       "    .dataframe thead th {\n",
       "        text-align: right;\n",
       "    }\n",
       "</style>\n",
       "<table border=\"1\" class=\"dataframe\">\n",
       "  <thead>\n",
       "    <tr style=\"text-align: right;\">\n",
       "      <th></th>\n",
       "      <th>date_q</th>\n",
       "      <th>hh_02</th>\n",
       "      <th>settlement</th>\n",
       "      <th>members</th>\n",
       "      <th>memnal</th>\n",
       "      <th>weight</th>\n",
       "      <th>fdpurch</th>\n",
       "      <th>fdcons</th>\n",
       "      <th>fdout</th>\n",
       "      <th>Z1</th>\n",
       "      <th>...</th>\n",
       "      <th>hous_29_2n</th>\n",
       "      <th>hous_29_3n</th>\n",
       "      <th>hous_29_4n</th>\n",
       "      <th>hous_29_5n</th>\n",
       "      <th>hous_29_6n</th>\n",
       "      <th>hous_39</th>\n",
       "      <th>hous_44</th>\n",
       "      <th>soc_01</th>\n",
       "      <th>soc_05</th>\n",
       "      <th>hous_47_8</th>\n",
       "    </tr>\n",
       "  </thead>\n",
       "  <tbody>\n",
       "    <tr>\n",
       "      <th>count</th>\n",
       "      <td>5165.000000</td>\n",
       "      <td>5165.000000</td>\n",
       "      <td>5165.000000</td>\n",
       "      <td>5165.000000</td>\n",
       "      <td>5165.000000</td>\n",
       "      <td>5165.000000</td>\n",
       "      <td>5165.000000</td>\n",
       "      <td>5165.000000</td>\n",
       "      <td>5165.000000</td>\n",
       "      <td>5165.000000</td>\n",
       "      <td>...</td>\n",
       "      <td>5107.000000</td>\n",
       "      <td>5149.000000</td>\n",
       "      <td>5092.000000</td>\n",
       "      <td>5090.000000</td>\n",
       "      <td>5093.000000</td>\n",
       "      <td>5165.000000</td>\n",
       "      <td>5165.000000</td>\n",
       "      <td>5165.000000</td>\n",
       "      <td>572.000000</td>\n",
       "      <td>3342.000000</td>\n",
       "    </tr>\n",
       "    <tr>\n",
       "      <th>mean</th>\n",
       "      <td>2019.065202</td>\n",
       "      <td>4.890997</td>\n",
       "      <td>1.374637</td>\n",
       "      <td>3.611617</td>\n",
       "      <td>3.409681</td>\n",
       "      <td>155.532817</td>\n",
       "      <td>54702.727893</td>\n",
       "      <td>8497.762933</td>\n",
       "      <td>2825.854441</td>\n",
       "      <td>3622.937588</td>\n",
       "      <td>...</td>\n",
       "      <td>0.186019</td>\n",
       "      <td>0.478928</td>\n",
       "      <td>0.001375</td>\n",
       "      <td>0.007662</td>\n",
       "      <td>0.340860</td>\n",
       "      <td>1.532043</td>\n",
       "      <td>2.904937</td>\n",
       "      <td>1.881897</td>\n",
       "      <td>877.486014</td>\n",
       "      <td>1.238181</td>\n",
       "    </tr>\n",
       "    <tr>\n",
       "      <th>std</th>\n",
       "      <td>0.034425</td>\n",
       "      <td>3.343538</td>\n",
       "      <td>0.484076</td>\n",
       "      <td>1.954404</td>\n",
       "      <td>1.894543</td>\n",
       "      <td>73.313942</td>\n",
       "      <td>41767.069890</td>\n",
       "      <td>15846.047589</td>\n",
       "      <td>10181.098053</td>\n",
       "      <td>2475.731163</td>\n",
       "      <td>...</td>\n",
       "      <td>0.389160</td>\n",
       "      <td>0.499604</td>\n",
       "      <td>0.037055</td>\n",
       "      <td>0.087206</td>\n",
       "      <td>0.474045</td>\n",
       "      <td>0.808306</td>\n",
       "      <td>0.740852</td>\n",
       "      <td>0.322761</td>\n",
       "      <td>17632.243041</td>\n",
       "      <td>0.482687</td>\n",
       "    </tr>\n",
       "    <tr>\n",
       "      <th>min</th>\n",
       "      <td>2019.010000</td>\n",
       "      <td>1.000000</td>\n",
       "      <td>1.000000</td>\n",
       "      <td>1.000000</td>\n",
       "      <td>1.000000</td>\n",
       "      <td>21.481481</td>\n",
       "      <td>0.000000</td>\n",
       "      <td>0.000000</td>\n",
       "      <td>0.000000</td>\n",
       "      <td>0.000000</td>\n",
       "      <td>...</td>\n",
       "      <td>0.000000</td>\n",
       "      <td>0.000000</td>\n",
       "      <td>0.000000</td>\n",
       "      <td>0.000000</td>\n",
       "      <td>0.000000</td>\n",
       "      <td>1.000000</td>\n",
       "      <td>1.000000</td>\n",
       "      <td>1.000000</td>\n",
       "      <td>0.000000</td>\n",
       "      <td>1.000000</td>\n",
       "    </tr>\n",
       "    <tr>\n",
       "      <th>25%</th>\n",
       "      <td>2019.040000</td>\n",
       "      <td>1.000000</td>\n",
       "      <td>1.000000</td>\n",
       "      <td>2.000000</td>\n",
       "      <td>2.000000</td>\n",
       "      <td>109.824074</td>\n",
       "      <td>25550.000000</td>\n",
       "      <td>0.000000</td>\n",
       "      <td>0.000000</td>\n",
       "      <td>1914.077381</td>\n",
       "      <td>...</td>\n",
       "      <td>0.000000</td>\n",
       "      <td>0.000000</td>\n",
       "      <td>0.000000</td>\n",
       "      <td>0.000000</td>\n",
       "      <td>0.000000</td>\n",
       "      <td>1.000000</td>\n",
       "      <td>2.000000</td>\n",
       "      <td>2.000000</td>\n",
       "      <td>3.000000</td>\n",
       "      <td>1.000000</td>\n",
       "    </tr>\n",
       "    <tr>\n",
       "      <th>50%</th>\n",
       "      <td>2019.070000</td>\n",
       "      <td>5.000000</td>\n",
       "      <td>1.000000</td>\n",
       "      <td>3.000000</td>\n",
       "      <td>3.000000</td>\n",
       "      <td>156.330247</td>\n",
       "      <td>44611.111111</td>\n",
       "      <td>1064.583333</td>\n",
       "      <td>0.000000</td>\n",
       "      <td>3017.656198</td>\n",
       "      <td>...</td>\n",
       "      <td>0.000000</td>\n",
       "      <td>0.000000</td>\n",
       "      <td>0.000000</td>\n",
       "      <td>0.000000</td>\n",
       "      <td>0.000000</td>\n",
       "      <td>1.000000</td>\n",
       "      <td>3.000000</td>\n",
       "      <td>2.000000</td>\n",
       "      <td>6.000000</td>\n",
       "      <td>1.000000</td>\n",
       "    </tr>\n",
       "    <tr>\n",
       "      <th>75%</th>\n",
       "      <td>2019.100000</td>\n",
       "      <td>8.000000</td>\n",
       "      <td>2.000000</td>\n",
       "      <td>5.000000</td>\n",
       "      <td>5.000000</td>\n",
       "      <td>192.638889</td>\n",
       "      <td>72761.011905</td>\n",
       "      <td>10430.597342</td>\n",
       "      <td>0.000000</td>\n",
       "      <td>4569.582184</td>\n",
       "      <td>...</td>\n",
       "      <td>0.000000</td>\n",
       "      <td>1.000000</td>\n",
       "      <td>0.000000</td>\n",
       "      <td>0.000000</td>\n",
       "      <td>1.000000</td>\n",
       "      <td>2.000000</td>\n",
       "      <td>3.000000</td>\n",
       "      <td>2.000000</td>\n",
       "      <td>10.000000</td>\n",
       "      <td>1.000000</td>\n",
       "    </tr>\n",
       "    <tr>\n",
       "      <th>max</th>\n",
       "      <td>2019.120000</td>\n",
       "      <td>11.000000</td>\n",
       "      <td>2.000000</td>\n",
       "      <td>15.000000</td>\n",
       "      <td>15.000000</td>\n",
       "      <td>326.879630</td>\n",
       "      <td>499923.263889</td>\n",
       "      <td>147600.133929</td>\n",
       "      <td>234642.857143</td>\n",
       "      <td>22711.973253</td>\n",
       "      <td>...</td>\n",
       "      <td>1.000000</td>\n",
       "      <td>1.000000</td>\n",
       "      <td>1.000000</td>\n",
       "      <td>1.000000</td>\n",
       "      <td>1.000000</td>\n",
       "      <td>6.000000</td>\n",
       "      <td>5.000000</td>\n",
       "      <td>2.000000</td>\n",
       "      <td>420000.000000</td>\n",
       "      <td>3.000000</td>\n",
       "    </tr>\n",
       "  </tbody>\n",
       "</table>\n",
       "<p>8 rows × 64 columns</p>\n",
       "</div>"
      ],
      "text/plain": [
       "            date_q        hh_02   settlement      members       memnal  \\\n",
       "count  5165.000000  5165.000000  5165.000000  5165.000000  5165.000000   \n",
       "mean   2019.065202     4.890997     1.374637     3.611617     3.409681   \n",
       "std       0.034425     3.343538     0.484076     1.954404     1.894543   \n",
       "min    2019.010000     1.000000     1.000000     1.000000     1.000000   \n",
       "25%    2019.040000     1.000000     1.000000     2.000000     2.000000   \n",
       "50%    2019.070000     5.000000     1.000000     3.000000     3.000000   \n",
       "75%    2019.100000     8.000000     2.000000     5.000000     5.000000   \n",
       "max    2019.120000    11.000000     2.000000    15.000000    15.000000   \n",
       "\n",
       "            weight        fdpurch         fdcons          fdout            Z1  \\\n",
       "count  5165.000000    5165.000000    5165.000000    5165.000000   5165.000000   \n",
       "mean    155.532817   54702.727893    8497.762933    2825.854441   3622.937588   \n",
       "std      73.313942   41767.069890   15846.047589   10181.098053   2475.731163   \n",
       "min      21.481481       0.000000       0.000000       0.000000      0.000000   \n",
       "25%     109.824074   25550.000000       0.000000       0.000000   1914.077381   \n",
       "50%     156.330247   44611.111111    1064.583333       0.000000   3017.656198   \n",
       "75%     192.638889   72761.011905   10430.597342       0.000000   4569.582184   \n",
       "max     326.879630  499923.263889  147600.133929  234642.857143  22711.973253   \n",
       "\n",
       "       ...   hous_29_2n   hous_29_3n   hous_29_4n   hous_29_5n   hous_29_6n  \\\n",
       "count  ...  5107.000000  5149.000000  5092.000000  5090.000000  5093.000000   \n",
       "mean   ...     0.186019     0.478928     0.001375     0.007662     0.340860   \n",
       "std    ...     0.389160     0.499604     0.037055     0.087206     0.474045   \n",
       "min    ...     0.000000     0.000000     0.000000     0.000000     0.000000   \n",
       "25%    ...     0.000000     0.000000     0.000000     0.000000     0.000000   \n",
       "50%    ...     0.000000     0.000000     0.000000     0.000000     0.000000   \n",
       "75%    ...     0.000000     1.000000     0.000000     0.000000     1.000000   \n",
       "max    ...     1.000000     1.000000     1.000000     1.000000     1.000000   \n",
       "\n",
       "           hous_39      hous_44       soc_01         soc_05    hous_47_8  \n",
       "count  5165.000000  5165.000000  5165.000000     572.000000  3342.000000  \n",
       "mean      1.532043     2.904937     1.881897     877.486014     1.238181  \n",
       "std       0.808306     0.740852     0.322761   17632.243041     0.482687  \n",
       "min       1.000000     1.000000     1.000000       0.000000     1.000000  \n",
       "25%       1.000000     2.000000     2.000000       3.000000     1.000000  \n",
       "50%       1.000000     3.000000     2.000000       6.000000     1.000000  \n",
       "75%       2.000000     3.000000     2.000000      10.000000     1.000000  \n",
       "max       6.000000     5.000000     2.000000  420000.000000     3.000000  \n",
       "\n",
       "[8 rows x 64 columns]"
      ]
     },
     "execution_count": 16,
     "metadata": {},
     "output_type": "execute_result"
    }
   ],
   "source": [
    "df.describe()"
   ]
  },
  {
   "cell_type": "code",
   "execution_count": 18,
   "metadata": {},
   "outputs": [],
   "source": [
    "sns.set_palette(\"GnBu_d\")\n",
    "sns.set_style('whitegrid')"
   ]
  },
  {
   "cell_type": "code",
   "execution_count": 19,
   "metadata": {},
   "outputs": [
    {
     "name": "stderr",
     "output_type": "stream",
     "text": [
      "c:\\Users\\Gexec\\AppData\\Local\\Programs\\Python\\Python310\\lib\\site-packages\\seaborn\\_decorators.py:36: FutureWarning: Pass the following variable as a keyword arg: x. From version 0.12, the only valid positional argument will be `data`, and passing other arguments without an explicit keyword will result in an error or misinterpretation.\n",
      "  warnings.warn(\n"
     ]
    },
    {
     "data": {
      "text/plain": [
       "<AxesSubplot:xlabel='members'>"
      ]
     },
     "execution_count": 19,
     "metadata": {},
     "output_type": "execute_result"
    },
    {
     "data": {
      "image/png": "[encoded data removed]",
      "text/plain": [
       "<Figure size 432x288 with 1 Axes>"
      ]
     },
     "metadata": {
      "needs_background": "light"
     },
     "output_type": "display_data"
    }
   ],
   "source": [
    "sns.boxplot(df['members'])"
   ]
  },
  {
   "cell_type": "code",
   "execution_count": 20,
   "metadata": {},
   "outputs": [
    {
     "data": {
      "text/plain": [
       "<AxesSubplot:xlabel='hh_02', ylabel='weight'>"
      ]
     },
     "execution_count": 20,
     "metadata": {},
     "output_type": "execute_result"
    },
    {
     "data": {
      "image/png": "[encoded data removed]",
      "text/plain": [
       "<Figure size 432x288 with 1 Axes>"
      ]
     },
     "metadata": {
      "needs_background": "light"
     },
     "output_type": "display_data"
    }
   ],
   "source": [
    "sns.scatterplot(data=df, x='hh_02', y='weight')"
   ]
  },
  {
   "cell_type": "code",
   "execution_count": 21,
   "metadata": {},
   "outputs": [
    {
     "data": {
      "text/plain": [
       "<AxesSubplot:xlabel='weight', ylabel='Count'>"
      ]
     },
     "execution_count": 21,
     "metadata": {},
     "output_type": "execute_result"
    },
    {
     "data": {
      "image/png": "[encoded data removed]",
      "text/plain": [
       "<Figure size 432x288 with 1 Axes>"
      ]
     },
     "metadata": {
      "needs_background": "light"
     },
     "output_type": "display_data"
    }
   ],
   "source": [
    "sns.histplot(data=df, x='weight', bins=40, kde=True)"
   ]
  },
  {
   "cell_type": "code",
   "execution_count": null,
   "metadata": {},
   "outputs": [
    {
     "ename": "",
     "evalue": "",
     "output_type": "error",
     "traceback": [
      "\u001b[1;31mFailed to start the Kernel. \n",
      "Unable to start Kernel 'Python 3.10.4 64-bit' due to connection timeout. \n",
      "View Jupyter <a href='command:jupyter.viewOutput'>log</a> for further details."
     ]
    }
   ],
   "source": [
    "sns.jointplot(x='weight', y='Z1', data=df)"
   ]
  },
  {
   "cell_type": "code",
   "execution_count": 24,
   "metadata": {},
   "outputs": [
    {
     "ename": "",
     "evalue": "",
     "output_type": "error",
     "traceback": [
      "\u001b[1;31mCanceled future for execute_request message before replies were done"
     ]
    },
    {
     "ename": "",
     "evalue": "",
     "output_type": "error",
     "traceback": [
      "\u001b[1;31mThe Kernel crashed while executing code in the the current cell or a previous cell. Please review the code in the cell(s) to identify a possible cause of the failure. Click <a href='https://aka.ms/vscodeJupyterKernelCrash'>here</a> for more info. View Jupyter <a href='command:jupyter.viewOutput'>log</a> for further details."
     ]
    }
   ],
   "source": [
    "sns.pairplot(df)"
   ]
  },
  {
   "cell_type": "code",
   "execution_count": null,
   "metadata": {},
   "outputs": [
    {
     "ename": "",
     "evalue": "",
     "output_type": "error",
     "traceback": [
      "\u001b[1;31mFailed to start the Kernel. \n",
      "Unable to start Kernel 'Python 3.10.4 64-bit' due to connection timeout. \n",
      "View Jupyter <a href='command:jupyter.viewOutput'>log</a> for further details."
     ]
    }
   ],
   "source": [
    "plt.figure(figsize=(18,8))\n",
    "plt.xticks(rotation=90)\n",
    "color_map = [\"#4A4655\" for _ in range(33)]\n",
    "color_map[0] = \"#4898EF\"\n",
    "plt.grid(color='black', linestyle=':', axis='y', zorder=0,  dashes=(1,5))\n",
    "plt.bar(df[\"weight\"], df['fdpurch'],color=color_map)\n",
    "plt.ylabel(\"fdpurch\")\n",
    "plt.title(\"date_q\")\n",
    "plt.show()"
   ]
  },
  {
   "cell_type": "code",
   "execution_count": null,
   "metadata": {},
   "outputs": [],
   "source": [
    "plt.figure(figsize = (16,8))\n",
    "plt.xticks(rotation=90)\n",
    "sns.lineplot(x=\"weight\", y = \"fdpurch\", data = df)\n",
    "plt.show()"
   ]
  },
  {
   "cell_type": "code",
   "execution_count": null,
   "metadata": {},
   "outputs": [],
   "source": [
    "df.columns"
   ]
  },
  {
   "cell_type": "code",
   "execution_count": null,
   "metadata": {},
   "outputs": [],
   "source": [
    "df_5 = df.nlargest(5, 'fdcons')\n",
    "df_5"
   ]
  },
  {
   "cell_type": "code",
   "execution_count": null,
   "metadata": {},
   "outputs": [],
   "source": [
    "sns.lmplot(x='fdpurch', y = 'fdcons', data=df)"
   ]
  },
  {
   "cell_type": "code",
   "execution_count": null,
   "metadata": {},
   "outputs": [],
   "source": [
    "df.corr()"
   ]
  },
  {
   "cell_type": "code",
   "execution_count": null,
   "metadata": {},
   "outputs": [],
   "source": [
    "plt.figure(figsize=(16, 18))\n",
    "heatmap = sns.heatmap(df.corr(), vmin=-1, vmax=1, annot=True)\n",
    "heatmap.set_title('Correlation Heatmap', fontdict={'fontsize':12}, pad=12)"
   ]
  },
  {
   "cell_type": "code",
   "execution_count": null,
   "metadata": {},
   "outputs": [],
   "source": [
    "df.columns"
   ]
  }
 ],
 "metadata": {
  "interpreter": {
   "hash": "f2e49204adac77b1775afb98f12914dae588b51e0df901d60bc29943407bc4d3"
  },
  "kernelspec": {
   "display_name": "Python 3.10.4 64-bit",
   "language": "python",
   "name": "python3"
  },
  "language_info": {
   "codemirror_mode": {
    "name": "ipython",
    "version": 3
   },
   "file_extension": ".py",
   "mimetype": "text/x-python",
   "name": "python",
   "nbconvert_exporter": "python",
   "pygments_lexer": "ipython3",
   "version": "3.10.4"
  },
  "orig_nbformat": 4
 },
 "nbformat": 4,
 "nbformat_minor": 2
}
