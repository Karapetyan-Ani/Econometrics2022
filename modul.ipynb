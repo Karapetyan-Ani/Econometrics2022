{
 "cells": [
  {
   "cell_type": "code",
   "execution_count": 10,
   "metadata": {},
   "outputs": [],
   "source": [
    "first_dictonary = {\n",
    "    'word': 'Econometrics' ,\n",
    "    \"sentence\": 'If the implementation is easy to explain, it may be a good idea' ,\n",
    "    'big_list': [\"python\", 3, \"anaconda\", 3.6, \"jupyter\", 10, \"lesson\", \"many\", 99],\n",
    "    \"empty_list\": []\n",
    "}"
   ]
  },
  {
   "cell_type": "code",
   "execution_count": 13,
   "metadata": {},
   "outputs": [],
   "source": [
    "if not first_dictonary['word'].isupper():\n",
    "    first_dictonary['word'] = \"Applied_\" + first_dictonary['word'].upper()"
   ]
  },
  {
   "cell_type": "code",
   "execution_count": 14,
   "metadata": {},
   "outputs": [
    {
     "data": {
      "text/plain": [
       "'Other the implementation is easy to explain, it may be a good idea'"
      ]
     },
     "execution_count": 14,
     "metadata": {},
     "output_type": "execute_result"
    }
   ],
   "source": [
    "first_dictonary['sentence'].replace(\"If\", \"Other\")"
   ]
  },
  {
   "cell_type": "code",
   "execution_count": 16,
   "metadata": {},
   "outputs": [
    {
     "name": "stdout",
     "output_type": "stream",
     "text": [
      "p\n",
      "a\n",
      "j\n",
      "l\n",
      "m\n"
     ]
    }
   ],
   "source": [
    "for i in first_dictonary['big_list']:\n",
    "    if type(i) == str:\n",
    "        print(i[0])"
   ]
  },
  {
   "cell_type": "code",
   "execution_count": 17,
   "metadata": {},
   "outputs": [
    {
     "name": "stdout",
     "output_type": "stream",
     "text": [
      "100\n"
     ]
    }
   ],
   "source": [
    "sum = 0\n",
    "for i in first_dictonary['big_list']:\n",
    "    if type(i) == int:\n",
    "        sum+= i\n",
    "sum2 = 0\n",
    "first_dictonary['big_list'].remove(first_dictonary['big_list'][-1])\n",
    "first_dictonary['big_list'].append(87)\n",
    "for item in first_dictonary['big_list']:\n",
    "    if type(item) == int:\n",
    "        sum2+= item\n",
    "print(sum2)"
   ]
  },
  {
   "cell_type": "code",
   "execution_count": 18,
   "metadata": {},
   "outputs": [
    {
     "data": {
      "text/plain": [
       "{'word': 'Applied_ECONOMETRICS',\n",
       " 'sentence': 'If the implementation is easy to explain, it may be a good idea',\n",
       " 'big_list': ['python',\n",
       "  3,\n",
       "  'anaconda',\n",
       "  3.6,\n",
       "  'jupyter',\n",
       "  10,\n",
       "  'lesson',\n",
       "  'Ani',\n",
       "  87],\n",
       " 'empty_list': []}"
      ]
     },
     "execution_count": 18,
     "metadata": {},
     "output_type": "execute_result"
    }
   ],
   "source": [
    "first_dictonary['big_list'][7] = \"Ani\"\n",
    "first_dictonary"
   ]
  },
  {
   "cell_type": "code",
   "execution_count": 19,
   "metadata": {},
   "outputs": [
    {
     "name": "stdout",
     "output_type": "stream",
     "text": [
      "95\n",
      "95\n"
     ]
    }
   ],
   "source": [
    "list_2 = [i for i in range(10, 200)]\n",
    "count_odd = 0\n",
    "count_prime = 0\n",
    "for i in list_2:\n",
    "    if i %2 == 0:\n",
    "        count_prime += 1\n",
    "    else:\n",
    "            count_odd +=1\n",
    "print(count_odd)\n",
    "print(count_prime)"
   ]
  }
 ],
 "metadata": {
  "interpreter": {
   "hash": "ed225720166559e7176d3793db16a2fd8d295f725007103b21ac3099d2a89ee8"
  },
  "kernelspec": {
   "display_name": "Python 3.9.10 64-bit",
   "language": "python",
   "name": "python3"
  },
  "language_info": {
   "codemirror_mode": {
    "name": "ipython",
    "version": 3
   },
   "file_extension": ".py",
   "mimetype": "text/x-python",
   "name": "python",
   "nbconvert_exporter": "python",
   "pygments_lexer": "ipython3",
   "version": "3.9.10"
  },
  "orig_nbformat": 4
 },
 "nbformat": 4,
 "nbformat_minor": 2
}
